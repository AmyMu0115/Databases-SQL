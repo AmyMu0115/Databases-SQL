{
    "cells": [
        {
            "cell_type": "markdown",
            "metadata": {
                "collapsed": true
            },
            "source": "# Welcome to SQL for Data Science\n\nSQL is a powerful language that's used for communicating with darabases. Every application that manipulates any kind of data needs to store that data somewhere."
        },
        {
            "cell_type": "markdown",
            "metadata": {},
            "source": "## What is SQL?\n* A language used for relational databases to query or get data out of database\n* Query data\n\nSQL also referred to as SQL and is short for its original name: Structured English Quert Language"
        },
        {
            "cell_type": "markdown",
            "metadata": {},
            "source": "## What is data?\n* Facts(words, numbers)\n\n## What is a database?\n* A repository of data\n* Provides the functionality for adding, modifying and querying that data\n* Different kinds of databases stor data in different forms\n* Data stored in tabular form is a relational database\n (note: A relational databases stores data in a tabular format - i.e. in rows and columns. But not all types of databases use the tabular format.)\n\n## What is an RDBMS?\n* RDBMS = Relational database management system\n* A set of software tools that controls the data\n   * access, organization and storage\n* For example: Db2 Warehouse on Cloud or DB2 Express-C"
        },
        {
            "cell_type": "markdown",
            "metadata": {},
            "source": "# Basic SQL Commands\n* Create a table\n* Insert\n* Select\n* Update\n* Delete"
        },
        {
            "cell_type": "markdown",
            "metadata": {},
            "source": "## What is a database service instance?\n* Database services are logical abstractions for managing worloads in a database\n* An instance of the Cloud database operates as a service that handles all application requeste to work with the data in any of the databases managed by that instance\n"
        }
    ],
    "metadata": {
        "kernelspec": {
            "display_name": "Python 3.6",
            "language": "python",
            "name": "python3"
        },
        "language_info": {
            "codemirror_mode": {
                "name": "ipython",
                "version": 3
            },
            "file_extension": ".py",
            "mimetype": "text/x-python",
            "name": "python",
            "nbconvert_exporter": "python",
            "pygments_lexer": "ipython3",
            "version": "3.6.9"
        }
    },
    "nbformat": 4,
    "nbformat_minor": 1
}