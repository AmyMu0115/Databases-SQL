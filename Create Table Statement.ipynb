{
    "cells": [
        {
            "cell_type": "markdown",
            "metadata": {
                "collapsed": true
            },
            "source": "## 5 Simple Statements\n* 5 simple statements:\n    * Create the table\n    * Insert data\n    * Select data\n    * Update data\n    * Delete data\n\nThese statements fall into two different categories:\n* DDL (Data Definition Language) statements:\n    * Define, change, or drop data\n* DML (Data Manipulation Language) statements:\n    * Read and modify data"
        },
        {
            "cell_type": "markdown",
            "metadata": {},
            "source": "Let's use the author enetity as the example:"
        },
        {
            "cell_type": "markdown",
            "metadata": {},
            "source": "CREATE TABLE author\n   (author_id CHAR(2)CONSTRAINT AUTHOR_PK PRIMARY KEY (author_id) NOT NULL,\n    lastname VARCHAR(15) NOT NULL,\n   firstname VARCHAR(15) NOT NULL,\n   email VARCHAR(40),\n   city VARCHAR(15), \n   country CHAR(2)\n   )"
        },
        {
            "cell_type": "markdown",
            "metadata": {},
            "source": "Some explanation:\n* CREATE TABLE statement is one of the data definition language statements\n* Char is a charater string of a fixed length\n* Varchar is a character string of a variable length\n* The primary key of a relational table uniquely identifies each tuple or row in a table. This constraint prevents duplicate vallues in the table.\n* The constraint not full ensures these fields cannot contain a null value."
        },
        {
            "cell_type": "markdown",
            "metadata": {},
            "source": "## Examples to Create and Drop Tables\nWe see the general syntax to create a table:"
        },
        {
            "cell_type": "markdown",
            "metadata": {},
            "source": "create table TABLENAME (\n     COLUMN1 datatype,\n     COLUMN2 datatype,\n     COLUMN3 datatype,\n         ...\n    );"
        },
        {
            "cell_type": "markdown",
            "metadata": {},
            "source": "Therefore, to create a table called TEST with two columns - ID of type integer, and Name of type varchar, we could create the following SQL statement:"
        },
        {
            "cell_type": "markdown",
            "metadata": {},
            "source": "create table TEST (\n     ID integer,\n    NAME varchar(30)\n    );"
        },
        {
            "cell_type": "markdown",
            "metadata": {},
            "source": "Again, let's create a table called COUNTRY with an ID column, a two letter country code column, and a variable length country name column:"
        },
        {
            "cell_type": "markdown",
            "metadata": {},
            "source": "create table COUNTRY (\n      ID int\n      CCOD char(2)\n      NAME varchar(60)\n      );"
        },
        {
            "cell_type": "markdown",
            "metadata": {},
            "source": "We can add additional keywords in a create table statement:"
        },
        {
            "cell_type": "markdown",
            "metadata": {},
            "source": "create table COUNTRY (\n      ID int NOT NULL\n      CCOD char(2)\n      NAME varchar(60)\n      PRIMARY KEY (ID)\n      );"
        },
        {
            "cell_type": "markdown",
            "metadata": {},
            "source": "\"NOT NULL\" -- meaning that it cannpt contain a NULL or an empty value\n\n\"PRIMARY KEY\" -- a unique identifier."
        },
        {
            "cell_type": "markdown",
            "metadata": {},
            "source": "\nIF the table you are trying to create already exists in the database, you will get an error indicating \"table XXX>YYY already exists\".\n\nTo circumvent this error, either create a table with a different name or first DROP the existing table. \n\nIt is quite common to issue a DROP before doing a CREATE in test and development scenarios. But be sure that it doesn't contain important data that can't be recovered easily.\n\nFor example:"
        },
        {
            "cell_type": "markdown",
            "metadata": {},
            "source": "drop table COUNTRY;\ncreate table COUNTRY(\n    ID int PRIMARY KEY NOT NULL\n      CCOD char(2)\n      NAME varchar(60)\n      );"
        }
    ],
    "metadata": {
        "kernelspec": {
            "display_name": "Python 3.6",
            "language": "python",
            "name": "python3"
        },
        "language_info": {
            "codemirror_mode": {
                "name": "ipython",
                "version": 3
            },
            "file_extension": ".py",
            "mimetype": "text/x-python",
            "name": "python",
            "nbconvert_exporter": "python",
            "pygments_lexer": "ipython3",
            "version": "3.6.9"
        }
    },
    "nbformat": 4,
    "nbformat_minor": 1
}