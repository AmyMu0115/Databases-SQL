{
    "cells": [
        {
            "cell_type": "markdown",
            "metadata": {
                "collapsed": true
            },
            "source": "# COUNT\nCOUNT() - a built-in function that retrieves the number of rows matching the query criteria\n\nNumber of rows in a table:"
        },
        {
            "cell_type": "markdown",
            "metadata": {},
            "source": "select COUNT(*) from tablename"
        },
        {
            "cell_type": "markdown",
            "metadata": {},
            "source": "Rows in the MEDALS table where Country is Danada:"
        },
        {
            "cell_type": "raw",
            "metadata": {},
            "source": "select COUNT(COUNTRY) from MEDAKS where COUNTRY = 'CANADA'"
        },
        {
            "cell_type": "markdown",
            "metadata": {},
            "source": "# DISTINCT\nDISTINCT is used to remove duplicate values from a result set.\n\nRetrieve unique values in a column:"
        },
        {
            "cell_type": "markdown",
            "metadata": {},
            "source": "select DISTINCT columnname from tablename"
        },
        {
            "cell_type": "markdown",
            "metadata": {},
            "source": "List of unique countries that received GOLD medals:"
        },
        {
            "cell_type": "markdown",
            "metadata": {},
            "source": "select DISTINCT COUNTRY from MEDALS where MEDALTYPE = 'GOLD'"
        },
        {
            "cell_type": "markdown",
            "metadata": {},
            "source": "# LIMIT\nLIMIT is used for rectricting the number of rows retrieved from the database\n\nRetrieve just the first 10 rows in a table"
        },
        {
            "cell_type": "markdown",
            "metadata": {},
            "source": "select * from tabelname LIMIT 10"
        },
        {
            "cell_type": "markdown",
            "metadata": {},
            "source": "Retrieve 5 rows in the MEDALS table for a particular year:"
        },
        {
            "cell_type": "markdown",
            "metadata": {},
            "source": "select * from MEDALS where YEAR = 2018 LIMIT 5"
        }
    ],
    "metadata": {
        "kernelspec": {
            "display_name": "Python 3.6",
            "language": "python",
            "name": "python3"
        },
        "language_info": {
            "codemirror_mode": {
                "name": "ipython",
                "version": 3
            },
            "file_extension": ".py",
            "mimetype": "text/x-python",
            "name": "python",
            "nbconvert_exporter": "python",
            "pygments_lexer": "ipython3",
            "version": "3.6.9"
        }
    },
    "nbformat": 4,
    "nbformat_minor": 1
}